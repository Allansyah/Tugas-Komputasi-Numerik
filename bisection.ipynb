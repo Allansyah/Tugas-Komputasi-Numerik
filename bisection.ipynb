{
  "nbformat": 4,
  "nbformat_minor": 0,
  "metadata": {
    "colab": {
      "provenance": [],
      "include_colab_link": true
    },
    "kernelspec": {
      "name": "python3",
      "display_name": "Python 3"
    },
    "language_info": {
      "name": "python"
    }
  },
  "cells": [
    {
      "cell_type": "markdown",
      "metadata": {
        "id": "view-in-github",
        "colab_type": "text"
      },
      "source": [
        "<a href=\"https://colab.research.google.com/github/Allansyah/Tugas-Komputasi-Numerik/blob/main/bisection.ipynb\" target=\"_parent\"><img src=\"https://colab.research.google.com/assets/colab-badge.svg\" alt=\"Open In Colab\"/></a>"
      ]
    },
    {
      "cell_type": "code",
      "execution_count": null,
      "metadata": {
        "id": "2JHVHadOtZcL"
      },
      "outputs": [],
      "source": [
        "import numpy as np"
      ]
    },
    {
      "cell_type": "code",
      "source": [
        "def bisection(f, a, b, tol):\n",
        "\n",
        "    if np.sign(f(a)) == np.sign(f(b)):\n",
        "        raise Exception(\n",
        "         \"tidak bisa\")\n",
        "\n",
        "    m = (a + b)/2\n",
        "\n",
        "    if np.abs(f(m)) < tol:\n",
        "        return m\n",
        "    elif np.sign(f(a)) == np.sign(f(m)):\n",
        "        return bisection(f, m, b, tol)\n",
        "    elif np.sign(f(b)) == np.sign(f(m)):\n",
        "        return bisection(f, a, m, tol)"
      ],
      "metadata": {
        "id": "5_LhaSoZurtu"
      },
      "execution_count": null,
      "outputs": []
    },
    {
      "cell_type": "markdown",
      "source": [
        "def bisection(f, a, b, tol):\n",
        "f: Fungsi yang akan dicari akarnya.\n",
        "a: Batas bawah interval.\n",
        "b: Batas atas interval.\n",
        "tol: Toleransi error, yaitu batas nilai terkecil\n",
        "∣f(m)∣ yang dianggap cukup mendekati nol (akar).\n",
        "\n",
        "\n",
        "\n",
        "if np.sign(f(a)) == np.sign(f(b)):\n",
        "    raise Exception(\"tidak bisa\")\n",
        "Tujuan: Memastikan f(a) dan f(B) memiliki tanda berbeda.\n",
        "\n",
        "\n",
        "\n",
        "np.sign\n",
        "Mengembalikan tanda dari nilai fungsi (+1 untuk positif,−1 untuk negatif,\n",
        "0 jika fungsi sama dengan nol).\n",
        "\n",
        "\n",
        "\n",
        "Exception:\n",
        "Jika tanda sama, fungsi menghentikan proses dengan pesan \"tidak bisa\"\n",
        "\n",
        "\n",
        "\n",
        "m = (a + b) / 2\n",
        "tujuan: Menghitung titik tengah interval\n",
        "[a,b], yaitu: m=a+b/2\n",
        "\n",
        "\n",
        "\n",
        "\n",
        "Titik m akan digunakan sebagai perkiraan sementara akar fungsi\n",
        "f(x)\n",
        "\n",
        "\n",
        "np.abs: Menghitung nilai absolut dari f(m).\n",
        "\n",
        "\n",
        "\n",
        "\n",
        "elif np.sign(f(a)) == np.sign(f(m)):\n",
        "    return bisection(f, m, b, tol)\n",
        "elif np.sign(f(b)) == np.sign(f(m)):\n",
        "    return bisection(f, a, m, tol)\n",
        "\n",
        "Tujuan: Mempersempit interval pencarian akar berdasarkan tanda fungsi.\n"
      ],
      "metadata": {
        "id": "80J51JChPJ51"
      }
    },
    {
      "cell_type": "markdown",
      "source": [
        "tigas saya\n"
      ],
      "metadata": {
        "id": "gTVkFDtoSMPd"
      }
    },
    {
      "cell_type": "code",
      "source": [],
      "metadata": {
        "id": "Vq8s45hEQ-7l"
      },
      "execution_count": null,
      "outputs": []
    },
    {
      "cell_type": "code",
      "source": [
        "f = lambda x: x**2 - 2\n",
        "\n",
        "# Panggilan fungsi bisection dengan dua toleransi berbeda\n",
        "r1 = bisection(f, 0, 2, 0.001)\n",
        "print(\"r1 =\", r1)\n",
        "print(\"f(r1) =\", f(r1))\n"
      ],
      "metadata": {
        "id": "ncQT2IKYvNBk",
        "colab": {
          "base_uri": "https://localhost:8080/"
        },
        "outputId": "976e5022-a184-418d-e254-93610a5cec93"
      },
      "execution_count": null,
      "outputs": [
        {
          "output_type": "stream",
          "name": "stdout",
          "text": [
            "r1 = 1.4140625\n",
            "f(r1) = -0.00042724609375\n"
          ]
        }
      ]
    },
    {
      "cell_type": "markdown",
      "source": [
        "\n",
        "Fungsi bisection bekerja untuk menemukan akar dari fungsi dengan mencari titik tengah dari interval\n",
        "[a,b], memeriksa apakah nilai fungsi pada titik tengah cukup dekat dengan nol (berdasarkan toleransi), dan mempersempit interval berdasarkan perubahan tanda fungsi."
      ],
      "metadata": {
        "id": "-BVQgaFISA4V"
      }
    },
    {
      "cell_type": "markdown",
      "source": [
        "r1 = bisection(f, 0, 2, 0.001)\n",
        "\n",
        "Fungsi bisection dipanggil dengan\n",
        "\n",
        "f: Fungsi f(x) =x^2-2\n",
        "\n",
        "0: Batas bawah interval pencarian akar.\n",
        "\n",
        "2: Batas atas interval pencarian akar.\n",
        "\n",
        "0.001: Toleransi kesalahan (error tolerance) yang menentukan kapan pencarian akan dihentikan.\n",
        "\n"
      ],
      "metadata": {
        "id": "T3ZCRlveRaF2"
      }
    },
    {
      "cell_type": "markdown",
      "source": [
        "f = lambda x: x**2 - 2\n",
        "Fungsi ini didefinisikan menggunakan lambda function, yaitu fungsi anonim yang hanya memerlukan satu baris."
      ],
      "metadata": {
        "id": "qoiztN2oRWWa"
      }
    },
    {
      "cell_type": "code",
      "source": [
        "r01 = bisection(f, 0, 2, 0.01)\n",
        "print(\"r01 =\", r01)\n",
        "print(\"f(r01) =\", f(r01))"
      ],
      "metadata": {
        "colab": {
          "base_uri": "https://localhost:8080/"
        },
        "id": "aYncPxEDOD1B",
        "outputId": "aa061480-1022-4be2-a380-aad21535cece"
      },
      "execution_count": null,
      "outputs": [
        {
          "output_type": "stream",
          "name": "stdout",
          "text": [
            "r01 = 1.4140625\n",
            "f(r01) = -0.00042724609375\n"
          ]
        }
      ]
    },
    {
      "cell_type": "markdown",
      "source": [
        "Sebagai perbandingan, sebelumnya kita menggunakan toleransi 0.001 dalam pemanggilan\n",
        "\n",
        "sebelumnya (dalam kode Anda sebelumnya dengan variabel r1)."
      ],
      "metadata": {
        "id": "E2QMUEwzSzGO"
      }
    },
    {
      "cell_type": "markdown",
      "source": [
        "r01 = bisection(f, 0, 2, 0.01)\n",
        "\n",
        "Fungsi bisection dipanggil untuk mencari akar fungsi\n",
        "\n",
        "f(x)=x2−2\n",
        "\n",
        "dalam interval\n",
        "\n",
        "[0,2],\n",
        " tetapi kali ini dengan toleransi yang lebih besar yaitu\n",
        "\n",
        "0.01."
      ],
      "metadata": {
        "id": "CXvnIr3nSTrd"
      }
    }
  ]
}