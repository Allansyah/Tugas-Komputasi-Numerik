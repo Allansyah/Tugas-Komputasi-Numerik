{
  "nbformat": 4,
  "nbformat_minor": 0,
  "metadata": {
    "colab": {
      "provenance": [],
      "include_colab_link": true
    },
    "kernelspec": {
      "name": "python3",
      "display_name": "Python 3"
    },
    "language_info": {
      "name": "python"
    }
  },
  "cells": [
    {
      "cell_type": "markdown",
      "metadata": {
        "id": "view-in-github",
        "colab_type": "text"
      },
      "source": [
        "<a href=\"https://colab.research.google.com/github/Allansyah/Tugas-Komputasi-Numerik/blob/main/eliminasi_gauss.ipynb\" target=\"_parent\"><img src=\"https://colab.research.google.com/assets/colab-badge.svg\" alt=\"Open In Colab\"/></a>"
      ]
    },
    {
      "cell_type": "code",
      "execution_count": null,
      "metadata": {
        "colab": {
          "base_uri": "https://localhost:8080/"
        },
        "id": "C3aJpOzwRswY",
        "outputId": "2f9dc48d-aa0c-4477-e32c-a23bf79e400d"
      },
      "outputs": [
        {
          "output_type": "stream",
          "name": "stdout",
          "text": [
            "Sistem Persamaan Linear matriks adalah  [[2, 3, -1, 5], [4, 4, -3, 3], [-2, 3, -1, 1]]\n",
            "0\n",
            "-2\n",
            "-1\n",
            "-7\n"
          ]
        }
      ],
      "source": [
        "import numpy as np\n",
        "import sys\n",
        "\n",
        "SPL = ([[2,3,-1,5],\n",
        "      [4,4,-3,3],\n",
        "     [-2,3,-1,1]]) #ini matriksnya\n",
        "print(\"Sistem Persamaan Linear matriks adalah \",SPL)\n",
        "#SPL[1][0]= SPL[1][0] - (2*SPL[0][0])\n",
        "#SPL[1][1] = SPL[1][1] - (2*SPL[0][1])\n",
        "#SPL[1][2] = SPL[1][2] - (2*SPL[0][2])\n",
        "#SPL[1][3] = SPL[1][3] - (2*SPL[0][3])\n",
        "\n",
        "for i in range(4):\n",
        "    SPL[1][i] = SPL[1][i] - (2*SPL[0][i])\n",
        "\n",
        "print(SPL[1][0])\n",
        "print(SPL[1][1])\n",
        "print(SPL[1][2])\n",
        "print(SPL[1][3])"
      ]
    },
    {
      "cell_type": "markdown",
      "source": [
        "Import numpy ini adalah library yang biasa digunakan untuk operasi numerik, termasuk manipulasi matriks\n",
        "\n",
        "sys diimpor tetapi tidak dipakai dalam kode ini.\n",
        "\n",
        "Loop ini menggantikan baris kedua matriks (SPL[1]) dengan hasil operasi eliminasi baris, yaitu Baris baru=Baris lama − Faktor eliminasi × Baris pivot\n",
        "\n",
        "Operasi ini dilakukan elemen per elemen dalam kolom untuk memperbarui nilai pada baris kedua.\n"
      ],
      "metadata": {
        "id": "qeKx1t1LFspl"
      }
    },
    {
      "cell_type": "code",
      "source": [
        "SPL = ([[2,3,-1,5],[4,4,-3,3],[-2,3,-1,1]]) #ini matriksnya\n",
        "print(\"Sistem Persamaan Linear matriks adalah \",SPL)\n",
        "#SPL[1][0]= SPL[1][0] - (2*SPL[0][0])\n",
        "#SPL[1][1] = SPL[1][1] - (2*SPL[0][1])\n",
        "#SPL[1][2] = SPL[1][2] - (2*SPL[0][2])\n",
        "#SPL[1][3] = SPL[1][3] - (2*SPL[0][3])\n",
        "\n",
        "for i in range(4):\n",
        "    SPL[1][i] = SPL[1][i] - (2*SPL[0][i])\n",
        "\n",
        "for i in range(4):\n",
        "    SPL[2][i] = SPL[2][i] - (-1*SPL[0][i])\n",
        "\n",
        "for i in range(3):\n",
        "    SPL[2][i+1] = SPL[2][i+1] - (-3*SPL[1][i+1])\n",
        "\n",
        "SPL"
      ],
      "metadata": {
        "colab": {
          "base_uri": "https://localhost:8080/"
        },
        "id": "js9lGSow2LIs",
        "outputId": "388f21ac-d1c2-488b-dbca-8616806f1ca9"
      },
      "execution_count": null,
      "outputs": [
        {
          "output_type": "stream",
          "name": "stdout",
          "text": [
            "Sistem Persamaan Linear matriks adalah  [[2, 3, -1, 5], [4, 4, -3, 3], [-2, 3, -1, 1]]\n"
          ]
        },
        {
          "output_type": "execute_result",
          "data": {
            "text/plain": [
              "[[2, 3, -1, 5], [0, -2, -1, -7], [0, 0, -5, -15]]"
            ]
          },
          "metadata": {},
          "execution_count": 3
        }
      ]
    },
    {
      "cell_type": "code",
      "source": [],
      "metadata": {
        "id": "gI6sJBg8F7VH"
      },
      "execution_count": null,
      "outputs": []
    },
    {
      "cell_type": "markdown",
      "source": [
        "For Tujuannya untuk mengeliminasi elemen2 di bawah pivot (yaitu elemen diagonal utama) pada baris ketiga (SPL[2]) menggunakan elemen-elemen dari baris kedua (SPL[1]).\n",
        "\n",
        "Loop ini berjalan sebanyak 3 kali dengan i mulai dari 0 hingga 2.\n",
        "Karena kita bekerja dengan elemen pada kolom tertentu dalam baris ketiga, indeks yang digunakan untuk elemen adalah i + 1. Jadi:\n",
        "Ketika i = 0, mengakses SPL[2][1].\n",
        "Ketika i = 1, mengakses SPL[2][2].\n",
        "Ketika i = 2, mengakses SPL[2][3]."
      ],
      "metadata": {
        "id": "DhOL8NNdF6Lv"
      }
    },
    {
      "cell_type": "code",
      "source": [
        "SPL = ([[2,3,-1,5],[4,4,-3,3],[-2,3,-1,1]]) #ini matriksnya\n",
        "print(\"Sistem Persamaan Linear matriks adalah \",SPL)\n",
        "#SPL[1][0]= SPL[1][0] - (2*SPL[0][0])\n",
        "#SPL[1][1] = SPL[1][1] - (2*SPL[0][1])\n",
        "#SPL[1][2] = SPL[1][2] - (2*SPL[0][2])\n",
        "#SPL[1][3] = SPL[1][3] - (2*SPL[0][3])\n",
        "\n",
        "for i in range(4):\n",
        "    SPL[1][i] = SPL[1][i] - (2*SPL[0][i])\n",
        "\n",
        "for i in range(4):\n",
        "    SPL[2][i] = SPL[2][i] - (-1*SPL[0][i])\n",
        "\n",
        "for i in range(3):\n",
        "    SPL[2][i+1] = SPL[2][i+1] - (-3*SPL[1][i+1])\n",
        "\n",
        "x = 0\n",
        "y= 0\n",
        "z=0\n",
        "\n",
        "z = SPL [2][3]/SPL[2][2]\n",
        "y= SPL [1][3]-SPL [1][2]*z/SPL[1][1]\n",
        "x = SPL [0][3]-SPL[0][2]*z-SPL[0][1]*y/SPL[0][0]\n",
        "print (z)\n",
        "print (y)\n",
        "print (x)\n"
      ],
      "metadata": {
        "colab": {
          "base_uri": "https://localhost:8080/"
        },
        "id": "ciwrHKDW745H",
        "outputId": "6d08b8b5-d550-4afc-8cd2-77b392ceb469"
      },
      "execution_count": null,
      "outputs": [
        {
          "output_type": "stream",
          "name": "stdout",
          "text": [
            "Sistem Persamaan Linear matriks adalah  [[2, 3, -1, 5], [4, 4, -3, 3], [-2, 3, -1, 1]]\n",
            "3.0\n",
            "-8.5\n",
            "20.75\n"
          ]
        }
      ]
    },
    {
      "cell_type": "markdown",
      "source": [
        "X, Y, Z diinisialisasi sebagai nol\n",
        "\n",
        "Nilai z dihitung dari baris ketiga SPL yang sudah diubah melalui eliminasi. Secara matematis.\n",
        "\n",
        "Nilai y dihitung dari baris kedua SPL. Setelah eliminasi, baris kedua berbentuk\n",
        "\n",
        "Nilai x dihitung dari baris pertama SPL. Setelah eliminasi, baris pertama berbentuk\n"
      ],
      "metadata": {
        "id": "QWOpixRFJvYa"
      }
    }
  ]
}